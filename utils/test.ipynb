{
 "cells": [
  {
   "cell_type": "code",
   "execution_count": null,
   "id": "6f325a77",
   "metadata": {},
   "outputs": [],
   "source": [
    "import os\n",
    "import time\n",
    "import psycopg2\n",
    "import pandas as pd\n",
    "from dotenv import load_dotenv"
   ]
  },
  {
   "cell_type": "code",
   "execution_count": null,
   "id": "d70dc9d6",
   "metadata": {},
   "outputs": [],
   "source": [
    "load_dotenv()\n",
    "\n",
    "DB_HOST = os.getenv('DB_HOST')\n",
    "DB_PORT = int(os.getenv('DB_PORT'))\n",
    "DB_USER = os.getenv('DB_USER')\n",
    "DB_PASSWORD = os.getenv('DB_PASSWORD')\n",
    "DB_NAME = os.getenv('DB_NAME')  \n",
    "DATA_FOLDER = os.getenv('DATA_FOLDER')\n",
    "ANALYSIS_FOLDER = os.getenv('ANALYSIS_FOLDER')"
   ]
  },
  {
   "cell_type": "code",
   "execution_count": null,
   "id": "7b4bbd8f",
   "metadata": {},
   "outputs": [],
   "source": [
    "bigbrotr = psycopg2.connect(\n",
    "    host=DB_HOST,\n",
    "    database=DB_NAME,\n",
    "    user=DB_USER,\n",
    "    password=DB_PASSWORD,\n",
    "    port=DB_PORT\n",
    ")"
   ]
  },
  {
   "cell_type": "code",
   "execution_count": null,
   "id": "20361f78",
   "metadata": {},
   "outputs": [],
   "source": [
    "query = \"\"\"\n",
    "SELECT DISTINCT relay_url\n",
    "FROM events_relays\n",
    "WHERE seen_at >= %s\n",
    "\"\"\"\n",
    "timestamp = time.time() - 120\n",
    "with bigbrotr.cursor() as cursor:\n",
    "    cursor.execute(query, (timestamp,))\n",
    "    relays = cursor.fetchall()\n",
    "relays_df = pd.DataFrame(relays, columns=['relay_url'])\n",
    "relays_df"
   ]
  },
  {
   "cell_type": "code",
   "execution_count": null,
   "id": "9fc2e073",
   "metadata": {},
   "outputs": [],
   "source": [
    "bigbrotr.close()"
   ]
  }
 ],
 "metadata": {
  "kernelspec": {
   "display_name": "venv",
   "language": "python",
   "name": "python3"
  },
  "language_info": {
   "codemirror_mode": {
    "name": "ipython",
    "version": 3
   },
   "file_extension": ".py",
   "mimetype": "text/x-python",
   "name": "python",
   "nbconvert_exporter": "python",
   "pygments_lexer": "ipython3",
   "version": "3.12.3"
  }
 },
 "nbformat": 4,
 "nbformat_minor": 5
}
