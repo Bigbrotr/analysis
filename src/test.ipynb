{
 "cells": [
  {
   "cell_type": "code",
   "execution_count": null,
   "id": "6f325a77",
   "metadata": {},
   "outputs": [],
   "source": [
    "import time\n",
    "import psycopg2\n",
    "import pandas as pd"
   ]
  },
  {
   "cell_type": "code",
   "execution_count": null,
   "id": "6dc68ff9",
   "metadata": {},
   "outputs": [],
   "source": [
    "bigbrotr = psycopg2.connect(\n",
    "    host=\"localhost\",\n",
    "    database=\"bigbrotr\",\n",
    "    user=\"admin\",\n",
    "    password=\"admin\",\n",
    "    port=\"5432\"\n",
    ")"
   ]
  },
  {
   "cell_type": "code",
   "execution_count": null,
   "id": "20361f78",
   "metadata": {},
   "outputs": [],
   "source": [
    "query = \"\"\"\n",
    "SELECT DISTINCT relay_url\n",
    "FROM events_relays\n",
    "WHERE seen_at >= %s\n",
    "\"\"\"\n",
    "timestamp = time.time() - 120\n",
    "with bigbrotr.cursor() as cursor:\n",
    "    cursor.execute(query, (timestamp,))\n",
    "    relays = cursor.fetchall()\n",
    "relays_df = pd.DataFrame(relays, columns=['relay_url'])\n",
    "relays_df"
   ]
  },
  {
   "cell_type": "code",
   "execution_count": null,
   "id": "079e5039",
   "metadata": {},
   "outputs": [],
   "source": [
    "# bigbrotr.conn.autocommit = True\n",
    "# bigbrotr.execute('VACUUM FULL events;')\n",
    "# bigbrotr.execute('VACUUM FULL events_relays;')\n",
    "# bigbrotr.execute('VACUUM FULL relay_metadata;')\n",
    "# bigbrotr.execute('VACUUM FULL relays;')"
   ]
  }
 ],
 "metadata": {
  "kernelspec": {
   "display_name": "venv",
   "language": "python",
   "name": "python3"
  },
  "language_info": {
   "codemirror_mode": {
    "name": "ipython",
    "version": 3
   },
   "file_extension": ".py",
   "mimetype": "text/x-python",
   "name": "python",
   "nbconvert_exporter": "python",
   "pygments_lexer": "ipython3",
   "version": "3.12.3"
  }
 },
 "nbformat": 4,
 "nbformat_minor": 5
}
