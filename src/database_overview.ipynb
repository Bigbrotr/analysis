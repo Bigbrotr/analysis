{
 "cells": [
  {
   "cell_type": "markdown",
   "id": "55091ed1",
   "metadata": {},
   "source": [
    "# Database Overview"
   ]
  },
  {
   "cell_type": "code",
   "execution_count": null,
   "id": "4f579258",
   "metadata": {},
   "outputs": [],
   "source": [
    "import warnings\n",
    "warnings.filterwarnings('ignore')\n",
    "\n",
    "import psycopg2\n",
    "import pandas as pd"
   ]
  },
  {
   "cell_type": "code",
   "execution_count": 3,
   "id": "06bcfe13",
   "metadata": {},
   "outputs": [],
   "source": [
    "DB_HOST = 'localhost'\n",
    "DB_PORT =5432\n",
    "DB_USER = 'admin'\n",
    "DB_PASSWORD = 'admin'\n",
    "DB_NAME = 'bigbrotr'\n",
    "\n",
    "bigbrotr = psycopg2.connect(\n",
    "    host=DB_HOST,\n",
    "    port=DB_PORT,\n",
    "    user=DB_USER,\n",
    "    password=DB_PASSWORD,\n",
    "    dbname=DB_NAME\n",
    ")\n",
    "\n",
    "DATA_FOLDER = '../data/'"
   ]
  },
  {
   "cell_type": "code",
   "execution_count": 4,
   "id": "ad4c00fb",
   "metadata": {},
   "outputs": [
    {
     "data": {
      "text/plain": [
       "'Events'"
      ]
     },
     "metadata": {},
     "output_type": "display_data"
    },
    {
     "name": "stdout",
     "output_type": "stream",
     "text": [
      "| column_name   | data_type   |\n",
      "|:--------------|:------------|\n",
      "| id            | character   |\n",
      "| pubkey        | character   |\n",
      "| created_at    | bigint      |\n",
      "| kind          | integer     |\n",
      "| tags          | jsonb       |\n",
      "| content       | text        |\n",
      "| sig           | character   |\n",
      "\n",
      "\n"
     ]
    },
    {
     "data": {
      "text/plain": [
       "'Events_relays'"
      ]
     },
     "metadata": {},
     "output_type": "display_data"
    },
    {
     "name": "stdout",
     "output_type": "stream",
     "text": [
      "| column_name   | data_type   |\n",
      "|:--------------|:------------|\n",
      "| event_id      | character   |\n",
      "| relay_url     | text        |\n",
      "| seen_at       | bigint      |\n",
      "\n",
      "\n"
     ]
    },
    {
     "data": {
      "text/plain": [
       "'Relay_metadata'"
      ]
     },
     "metadata": {},
     "output_type": "display_data"
    },
    {
     "name": "stdout",
     "output_type": "stream",
     "text": [
      "| column_name        | data_type   |\n",
      "|:-------------------|:------------|\n",
      "| relay_url          | text        |\n",
      "| generated_at       | bigint      |\n",
      "| connection_success | boolean     |\n",
      "| nip11_success      | boolean     |\n",
      "| openable           | boolean     |\n",
      "| readable           | boolean     |\n",
      "| writable           | boolean     |\n",
      "| rtt_open           | integer     |\n",
      "| rtt_read           | integer     |\n",
      "| rtt_write          | integer     |\n",
      "| name               | text        |\n",
      "| description        | text        |\n",
      "| banner             | text        |\n",
      "| icon               | text        |\n",
      "| pubkey             | text        |\n",
      "| contact            | text        |\n",
      "| supported_nips     | jsonb       |\n",
      "| software           | text        |\n",
      "| version            | text        |\n",
      "| privacy_policy     | text        |\n",
      "| terms_of_service   | text        |\n",
      "| limitation         | jsonb       |\n",
      "| extra_fields       | jsonb       |\n",
      "\n",
      "\n"
     ]
    },
    {
     "data": {
      "text/plain": [
       "'Relays'"
      ]
     },
     "metadata": {},
     "output_type": "display_data"
    },
    {
     "name": "stdout",
     "output_type": "stream",
     "text": [
      "| column_name   | data_type   |\n",
      "|:--------------|:------------|\n",
      "| url           | text        |\n",
      "| network       | text        |\n",
      "| inserted_at   | bigint      |\n",
      "\n",
      "\n"
     ]
    }
   ],
   "source": [
    "def get_schema_overview(conn):\n",
    "    q = '''\n",
    "    SELECT table_name, column_name, data_type\n",
    "    FROM information_schema.columns\n",
    "    WHERE table_schema = 'public'\n",
    "    ORDER BY table_name, ordinal_position;\n",
    "    '''\n",
    "    return pd.read_sql(q, conn)\n",
    "\n",
    "schema_df = get_schema_overview(bigbrotr)\n",
    "for table_name in schema_df['table_name'].unique():\n",
    "    df = schema_df[schema_df['table_name'] == table_name].drop(columns='table_name')\n",
    "    display(table_name.capitalize())\n",
    "    print(df.to_markdown(index=False))\n",
    "    print(\"\\n\")"
   ]
  },
  {
   "cell_type": "code",
   "execution_count": 6,
   "id": "93bb8bf9",
   "metadata": {},
   "outputs": [
    {
     "name": "stdout",
     "output_type": "stream",
     "text": [
      "📊 Analisi dello spazio per tabella:\n",
      "\n",
      "🧾 TABELLA: events\n",
      "Numero righe: 6403135\n",
      "Colonna               Avg (bytes)  Totale (GB)\n",
      "id                          65.00         0.39\n",
      "pubkey                      65.00         0.39\n",
      "created_at                   8.00         0.05\n",
      "kind                         4.00         0.02\n",
      "tags                       374.35         2.23\n",
      "content                    151.66         0.90\n",
      "sig                        132.00         0.79\n",
      "Totale dati stimati: 4.77 GB\n",
      "\n",
      "📦 Indici:\n",
      "Indice                            Size (GB)\n",
      "events_pkey                            0.74\n",
      "idx_events_pubkey                      0.19\n",
      "idx_events_created_at                  0.16\n",
      "idx_events_kind                        0.06\n",
      "idx_events_kind_created_at             0.24\n",
      "Totale indici: 1.41 GB\n",
      "Totale complessivo stimato: 6.18 GB\n",
      "\n",
      "────────────────────────────────────────────────────────────\n",
      "🧾 TABELLA: relays\n",
      "Numero righe: 8865\n",
      "Colonna               Avg (bytes)  Totale (GB)\n",
      "url                         30.61         0.00\n",
      "network                      8.48         0.00\n",
      "inserted_at                  8.00         0.00\n",
      "Totale dati stimati: 0.00 GB\n",
      "\n",
      "📦 Indici:\n",
      "Indice                            Size (GB)\n",
      "relays_pkey                            0.00\n",
      "Totale indici: 0.00 GB\n",
      "Totale complessivo stimato: 0.00 GB\n",
      "\n",
      "────────────────────────────────────────────────────────────\n",
      "🧾 TABELLA: events_relays\n",
      "Numero righe: 11369482\n",
      "Colonna               Avg (bytes)  Totale (GB)\n",
      "event_id                    65.00         0.69\n",
      "relay_url                   24.40         0.26\n",
      "seen_at                      8.00         0.08\n",
      "Totale dati stimati: 1.03 GB\n",
      "\n",
      "📦 Indici:\n",
      "Indice                            Size (GB)\n",
      "events_relays_pkey                     1.65\n",
      "idx_events_relays_event_id             0.82\n",
      "idx_events_relays_relay_url            0.07\n",
      "idx_events_relays_seen_at              0.10\n",
      "Totale indici: 2.65 GB\n",
      "Totale complessivo stimato: 3.68 GB\n",
      "\n",
      "────────────────────────────────────────────────────────────\n",
      "🧾 TABELLA: relay_metadata\n",
      "Numero righe: 775\n",
      "Colonna               Avg (bytes)  Totale (GB)\n",
      "relay_url                   28.68         0.00\n",
      "generated_at                 8.00         0.00\n",
      "connection_success           1.00         0.00\n",
      "nip11_success                1.00         0.00\n",
      "openable                     1.00         0.00\n",
      "readable                     1.00         0.00\n",
      "writable                     1.00         0.00\n",
      "rtt_open                     4.00         0.00\n",
      "rtt_read                     4.00         0.00\n",
      "rtt_write                    4.00         0.00\n",
      "name                        18.22         0.00\n",
      "description                 50.57         0.00\n",
      "banner                       1.00         0.00\n",
      "icon                        54.49         0.00\n",
      "pubkey                      60.84         0.00\n",
      "contact                     23.29         0.00\n",
      "supported_nips               9.00         0.00\n",
      "software                    40.79         0.00\n",
      "version                      7.72         0.00\n",
      "privacy_policy              31.00         0.00\n",
      "terms_of_service            25.00         0.00\n",
      "limitation                 146.40         0.00\n",
      "extra_fields                57.69         0.00\n",
      "Totale dati stimati: 0.00 GB\n",
      "\n",
      "📦 Indici:\n",
      "Indice                            Size (GB)\n",
      "relay_metadata_pkey                    0.00\n",
      "idx_relay_metadata_relay_url           0.00\n",
      "idx_relay_metadata_generated_at         0.00\n",
      "idx_relay_metadata_connection_success         0.00\n",
      "idx_relay_metadata_nip11_success         0.00\n",
      "Totale indici: 0.00 GB\n",
      "Totale complessivo stimato: 0.00 GB\n",
      "\n",
      "────────────────────────────────────────────────────────────\n"
     ]
    }
   ],
   "source": [
    "def bytes_to_gb(b):\n",
    "    return b / (1024 ** 3)\n",
    "\n",
    "cursor = bigbrotr.cursor()\n",
    "\n",
    "# Recupera tutte le tabelle nel tuo schema pubblico\n",
    "cursor.execute(\"\"\"\n",
    "    SELECT table_name \n",
    "    FROM information_schema.tables \n",
    "    WHERE table_schema = 'public' AND table_type = 'BASE TABLE'\n",
    "\"\"\")\n",
    "tables = [row[0] for row in cursor.fetchall()]\n",
    "\n",
    "print(\"📊 Analisi dello spazio per tabella:\\n\")\n",
    "\n",
    "for table in tables:\n",
    "    print(f\"🧾 TABELLA: {table}\")\n",
    "    \n",
    "    # Numero righe\n",
    "    cursor.execute(f\"SELECT COUNT(*) FROM {table}\")\n",
    "    total_rows = cursor.fetchone()[0]\n",
    "    print(f\"Numero righe: {total_rows}\")\n",
    "\n",
    "    if total_rows == 0:\n",
    "        print(\" (Tabella vuota)\\n\")\n",
    "        continue\n",
    "\n",
    "    # Calcola dimensione media per colonna\n",
    "    cursor.execute(f\"\"\"\n",
    "        SELECT string_agg(\n",
    "            'AVG(pg_column_size(\\\"' || column_name || '\\\")) AS \\\"' || column_name || '\\\"',\n",
    "            ', '\n",
    "        )\n",
    "        FROM information_schema.columns\n",
    "        WHERE table_name = %s AND table_schema = 'public'\n",
    "    \"\"\", (table,))\n",
    "    agg_expr = cursor.fetchone()[0]\n",
    "\n",
    "    avg_size_query = f\"SELECT {agg_expr} FROM {table}\"\n",
    "    cursor.execute(avg_size_query)\n",
    "    avg_sizes = cursor.fetchone()\n",
    "    colnames = [desc.name for desc in cursor.description]\n",
    "\n",
    "    print(\"{:<20} {:>12} {:>12}\".format(\"Colonna\", \"Avg (bytes)\", \"Totale (GB)\"))\n",
    "    total_data_bytes = 0\n",
    "\n",
    "    for i, col in enumerate(colnames):\n",
    "        avg_bytes = float(avg_sizes[i])\n",
    "        total_bytes = avg_bytes * total_rows\n",
    "        total_data_bytes += total_bytes\n",
    "        print(\"{:<20} {:>12.2f} {:>12.2f}\".format(col, avg_bytes, bytes_to_gb(total_bytes)))\n",
    "\n",
    "    print(f\"Totale dati stimati: {bytes_to_gb(total_data_bytes):.2f} GB\")\n",
    "\n",
    "    # Recupera indici della tabella con dimensione\n",
    "    cursor.execute(f\"\"\"\n",
    "        SELECT \n",
    "            indexname, \n",
    "            pg_relation_size(indexrelid) AS size_bytes\n",
    "        FROM pg_indexes\n",
    "        JOIN pg_class ON pg_class.relname = indexname\n",
    "        JOIN pg_index ON pg_class.oid = pg_index.indexrelid\n",
    "        WHERE tablename = %s\n",
    "    \"\"\", (table,))\n",
    "    index_data = cursor.fetchall()\n",
    "\n",
    "    total_index_bytes = 0\n",
    "    print(\"\\n📦 Indici:\")\n",
    "    print(\"{:<30} {:>12}\".format(\"Indice\", \"Size (GB)\"))\n",
    "    for index_name, size_bytes in index_data:\n",
    "        total_index_bytes += size_bytes\n",
    "        print(\"{:<30} {:>12.2f}\".format(index_name, bytes_to_gb(size_bytes)))\n",
    "\n",
    "    print(f\"Totale indici: {bytes_to_gb(total_index_bytes):.2f} GB\")\n",
    "    print(f\"Totale complessivo stimato: {bytes_to_gb(total_data_bytes + total_index_bytes):.2f} GB\\n\")\n",
    "    print(\"─\" * 60)\n",
    "\n",
    "cursor.close()\n",
    "conn.close()"
   ]
  }
 ],
 "metadata": {
  "kernelspec": {
   "display_name": "venv",
   "language": "python",
   "name": "python3"
  },
  "language_info": {
   "codemirror_mode": {
    "name": "ipython",
    "version": 3
   },
   "file_extension": ".py",
   "mimetype": "text/x-python",
   "name": "python",
   "nbconvert_exporter": "python",
   "pygments_lexer": "ipython3",
   "version": "3.12.3"
  }
 },
 "nbformat": 4,
 "nbformat_minor": 5
}
