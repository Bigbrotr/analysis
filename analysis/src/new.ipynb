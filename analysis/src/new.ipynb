{
 "cells": [
  {
   "cell_type": "code",
   "execution_count": 1,
   "id": "28d738d5",
   "metadata": {},
   "outputs": [],
   "source": [
    "import warnings\n",
    "warnings.filterwarnings('ignore')\n",
    "\n",
    "import seaborn as sns\n",
    "sns.set_theme(style=\"whitegrid\")\n",
    "\n",
    "import matplotlib.pyplot as plt\n",
    "plt.rcParams['figure.figsize'] = (12, 6)\n",
    "\n",
    "import os\n",
    "import psycopg2\n",
    "import itertools\n",
    "import numpy as np\n",
    "import pandas as pd\n",
    "import polars as pl\n",
    "from tqdm import tqdm\n",
    "from datetime import timedelta\n",
    "from dotenv import load_dotenv\n",
    "import matplotlib.pyplot as plt\n",
    "from collections import defaultdict\n",
    "from matplotlib.patches import Patch"
   ]
  },
  {
   "cell_type": "code",
   "execution_count": 2,
   "id": "9396c723",
   "metadata": {},
   "outputs": [],
   "source": [
    "load_dotenv()\n",
    "\n",
    "DB_HOST = os.getenv(\"DB_HOST\")\n",
    "DB_PORT = int(os.getenv(\"DB_PORT\"))\n",
    "DB_USER = os.getenv(\"DB_USER\")\n",
    "DB_PASSWORD = os.getenv(\"DB_PASSWORD\")\n",
    "DB_NAME = os.getenv(\"DB_NAME\")\n",
    "DATA_FOLDER = os.getenv(\"DATA_FOLDER\")"
   ]
  },
  {
   "cell_type": "code",
   "execution_count": 14,
   "id": "25ca035d",
   "metadata": {},
   "outputs": [],
   "source": [
    "events_relays = pl.read_csv(os.path.join(DATA_FOLDER, 'events_relays.csv'))\n",
    "events = pl.read_csv(os.path.join(DATA_FOLDER, 'events.csv'), columns=['id', 'pubkey']).rename({'id': 'event_id'})\n",
    "events_relays = events_relays.join(events, on='event_id', how='left')\n",
    "relay_stats = pl.read_csv(os.path.join(DATA_FOLDER, 'relay_stats.csv'))"
   ]
  },
  {
   "cell_type": "code",
   "execution_count": null,
   "id": "0247d5dc",
   "metadata": {},
   "outputs": [
    {
     "name": "stderr",
     "output_type": "stream",
     "text": [
      "Writing pairs: 100%|██████████| 1841336/1841336 [00:07<00:00, 232326.35it/s]\n"
     ]
    }
   ],
   "source": [
    "events_share = events_relays.group_by(['event_id']).agg(\n",
    "    [pl.col('relay_url').unique().alias('relay_urls')]\n",
    ").filter(\n",
    "    pl.col(\"relay_urls\").list.len() > 1\n",
    ")\n",
    "events_share_dict = {}\n",
    "for row in tqdm(events_share.iter_rows(named=True), desc=\"Writing pairs\", total=events_share.height):\n",
    "    for relay_url1 in row['relay_urls']:\n",
    "        for relay_url2 in row['relay_urls']:\n",
    "            if relay_url1 < relay_url2:\n",
    "                pair = (relay_url1, relay_url2)\n",
    "                if pair not in events_share_dict:\n",
    "                    events_share_dict[pair] = 0\n",
    "                events_share_dict[pair] += 1\n",
    "events_share = pl.DataFrame(\n",
    "    {\n",
    "        'relay_url1': [pair[0] for pair in events_share_dict.keys()],\n",
    "        'relay_url2': [pair[1] for pair in events_share_dict.keys()],\n",
    "        'shared_event_count': list(events_share_dict.values())\n",
    "    }\n",
    ")\n",
    "events_share = events_share.join(\n",
    "    relay_stats.select(['relay_url', 'num_events']).rename({'num_events': 'relay_url1_event_count', 'relay_url': 'relay_url1'}),\n",
    "    on='relay_url1',\n",
    "    how='left'\n",
    ")\n",
    "events_share = events_share.join(\n",
    "    relay_stats.select(['relay_url', 'num_events']).rename({'num_events': 'relay_url2_event_count', 'relay_url': 'relay_url2'}),\n",
    "    on='relay_url2',\n",
    "    how='left'\n",
    ")\n",
    "events_share.write_csv(os.path.join(DATA_FOLDER, 'events_share.csv'))"
   ]
  },
  {
   "cell_type": "code",
   "execution_count": null,
   "id": "4fcdbf20",
   "metadata": {},
   "outputs": [
    {
     "name": "stderr",
     "output_type": "stream",
     "text": [
      "Writing pairs: 100%|██████████| 452079/452079 [00:02<00:00, 163588.61it/s]\n"
     ]
    }
   ],
   "source": [
    "pubkeys_share = events_relays.group_by(['pubkey']).agg(\n",
    "    [pl.col('relay_url').unique().alias('relay_urls')]\n",
    ").filter(\n",
    "    pl.col(\"relay_urls\").list.len() > 1\n",
    ")\n",
    "pubkeys_share_dict = {}\n",
    "for row in tqdm(pubkeys_share.iter_rows(named=True), desc=\"Writing pairs\", total=pubkeys_share.height):\n",
    "    for relay_url1 in row['relay_urls']:\n",
    "        for relay_url2 in row['relay_urls']:\n",
    "            if relay_url1 < relay_url2:\n",
    "                pair = (relay_url1, relay_url2)\n",
    "                if pair not in pubkeys_share_dict:\n",
    "                    pubkeys_share_dict[pair] = 0\n",
    "                pubkeys_share_dict[pair] += 1\n",
    "pubkeys_share = pl.DataFrame(\n",
    "    {\n",
    "        'relay_url1': [pair[0] for pair in pubkeys_share_dict.keys()],\n",
    "        'relay_url2': [pair[1] for pair in pubkeys_share_dict.keys()],\n",
    "        'shared_pubkey_count': list(pubkeys_share_dict.values())\n",
    "    }\n",
    ")\n",
    "pubkeys_share = pubkeys_share.join(\n",
    "    relay_stats.select(['relay_url', 'num_pubkeys']).rename({'num_pubkeys': 'relay_url1_pubkey_count', 'relay_url': 'relay_url1'}),\n",
    "    on='relay_url1',\n",
    "    how='left'\n",
    ")\n",
    "pubkeys_share = pubkeys_share.join(\n",
    "    relay_stats.select(['relay_url', 'num_pubkeys']).rename({'num_pubkeys': 'relay_url2_pubkey_count', 'relay_url': 'relay_url2'}),\n",
    "    on='relay_url2',\n",
    "    how='left'\n",
    ")\n",
    "pubkeys_share.write_csv(os.path.join(DATA_FOLDER, 'pubkeys_share.csv'))"
   ]
  }
 ],
 "metadata": {
  "kernelspec": {
   "display_name": "venv",
   "language": "python",
   "name": "python3"
  },
  "language_info": {
   "codemirror_mode": {
    "name": "ipython",
    "version": 3
   },
   "file_extension": ".py",
   "mimetype": "text/x-python",
   "name": "python",
   "nbconvert_exporter": "python",
   "pygments_lexer": "ipython3",
   "version": "3.12.3"
  }
 },
 "nbformat": 4,
 "nbformat_minor": 5
}
