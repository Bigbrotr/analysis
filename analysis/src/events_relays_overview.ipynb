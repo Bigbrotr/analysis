{
 "cells": [
  {
   "cell_type": "code",
   "execution_count": 1,
   "id": "725f33bf",
   "metadata": {},
   "outputs": [],
   "source": [
    "import warnings\n",
    "warnings.filterwarnings('ignore')\n",
    "\n",
    "import seaborn as sns\n",
    "sns.set_theme(style=\"whitegrid\")\n",
    "\n",
    "import matplotlib.pyplot as plt\n",
    "plt.rcParams['figure.figsize'] = (12, 6)\n",
    "\n",
    "import os\n",
    "import psycopg2\n",
    "import numpy as np\n",
    "import pandas as pd\n",
    "import polars as pl\n",
    "import matplotlib.pyplot as plt\n",
    "from matplotlib_venn import venn3\n",
    "import matplotlib.patches as mpatches"
   ]
  },
  {
   "cell_type": "code",
   "execution_count": null,
   "id": "d2467570",
   "metadata": {},
   "outputs": [],
   "source": [
    "DB_HOST = '151.100.179.29'\n",
    "DB_PORT =5432\n",
    "DB_USER = 'admin'\n",
    "DB_PASSWORD = 'admin'\n",
    "DB_NAME = 'bigbrotr'\n",
    "\n",
    "bigbrotr = psycopg2.connect(\n",
    "    host=DB_HOST,\n",
    "    port=DB_PORT,\n",
    "    user=DB_USER,\n",
    "    password=DB_PASSWORD,\n",
    "    dbname=DB_NAME\n",
    ")\n",
    "\n",
    "DATA_FOLDER = '../data/'"
   ]
  },
  {
   "cell_type": "code",
   "execution_count": 3,
   "id": "2a4037e0",
   "metadata": {},
   "outputs": [],
   "source": [
    "if \"events_relays.csv\" not in os.listdir(DATA_FOLDER):\n",
    "    with bigbrotr.cursor() as cur:\n",
    "        with open(os.path.join(DATA_FOLDER, 'events_relays.csv'), 'w') as f:\n",
    "            cur.copy_expert(\"COPY (SELECT event_id, relay_url FROM events_relays) TO STDOUT WITH CSV HEADER\", f)\n",
    "events_relays = pl.read_csv(os.path.join(DATA_FOLDER, 'events_relays.csv'))"
   ]
  },
  {
   "cell_type": "code",
   "execution_count": null,
   "id": "1eebc022",
   "metadata": {},
   "outputs": [
    {
     "data": {
      "text/html": [
       "<div><style>\n",
       ".dataframe > thead > tr,\n",
       ".dataframe > tbody > tr {\n",
       "  text-align: right;\n",
       "  white-space: pre-wrap;\n",
       "}\n",
       "</style>\n",
       "<small>shape: (879, 1)</small><table border=\"1\" class=\"dataframe\"><thead><tr><th>relay_url</th></tr><tr><td>struct[2]</td></tr></thead><tbody><tr><td>{&quot;wss://relay.nostr.lighting&quot;,404300}</td></tr><tr><td>{&quot;wss://relay.nostromo.social&quot;,9904397}</td></tr><tr><td>{&quot;wss://4dtulxzurcziwofjyud2y4rwiivggrdgdfhtvlu6gk5ip75lglceljyd.onion&quot;,4}</td></tr><tr><td>{&quot;wss://relay.bitcoinschool.nl&quot;,541}</td></tr><tr><td>{&quot;wss://nostr.21crypto.ch&quot;,352051}</td></tr><tr><td>&hellip;</td></tr><tr><td>{&quot;wss://social.proxymana.net&quot;,375070}</td></tr><tr><td>{&quot;wss://relay.guggero.org&quot;,80}</td></tr><tr><td>{&quot;wss://relay.nostr.world&quot;,6}</td></tr><tr><td>{&quot;wss://nostr.land&quot;,1083917}</td></tr><tr><td>{&quot;wss://strfry.corebreach.com&quot;,81372}</td></tr></tbody></table></div>"
      ],
      "text/plain": [
       "shape: (879, 1)\n",
       "┌─────────────────────────────────┐\n",
       "│ relay_url                       │\n",
       "│ ---                             │\n",
       "│ struct[2]                       │\n",
       "╞═════════════════════════════════╡\n",
       "│ {\"wss://relay.nostr.lighting\",… │\n",
       "│ {\"wss://relay.nostromo.social\"… │\n",
       "│ {\"wss://4dtulxzurcziwofjyud2y4… │\n",
       "│ {\"wss://relay.bitcoinschool.nl… │\n",
       "│ {\"wss://nostr.21crypto.ch\",352… │\n",
       "│ …                               │\n",
       "│ {\"wss://social.proxymana.net\",… │\n",
       "│ {\"wss://relay.guggero.org\",80}  │\n",
       "│ {\"wss://relay.nostr.world\",6}   │\n",
       "│ {\"wss://nostr.land\",1083917}    │\n",
       "│ {\"wss://strfry.corebreach.com\"… │\n",
       "└─────────────────────────────────┘"
      ]
     },
     "execution_count": 6,
     "metadata": {},
     "output_type": "execute_result"
    }
   ],
   "source": [
    "events_relays.select(pl.col(\"relay_url\").value_counts())"
   ]
  }
 ],
 "metadata": {
  "kernelspec": {
   "display_name": "venv",
   "language": "python",
   "name": "python3"
  },
  "language_info": {
   "codemirror_mode": {
    "name": "ipython",
    "version": 3
   },
   "file_extension": ".py",
   "mimetype": "text/x-python",
   "name": "python",
   "nbconvert_exporter": "python",
   "pygments_lexer": "ipython3",
   "version": "3.12.3"
  }
 },
 "nbformat": 4,
 "nbformat_minor": 5
}
